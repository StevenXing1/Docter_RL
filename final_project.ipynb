{
 "cells": [
  {
   "cell_type": "code",
   "execution_count": 1,
   "metadata": {},
   "outputs": [
    {
     "name": "stdout",
     "output_type": "stream",
     "text": [
      "couldn't import doomish\n",
      "<final_proj.docter.BPWaveform object at 0x000001E12EDF5E10>\n",
      "<final_proj.docter.BPWaveform object at 0x000001E10DF9F7C0>\n"
     ]
    }
   ],
   "source": [
    "import gym\n",
    "import final_proj\n",
    "import numpy as np\n",
    "\n",
    "\n",
    "from collections import deque\n",
    "\n",
    "import matplotlib.pyplot as plt\n",
    "%matplotlib inline\n",
    "# Hugging Face Hub\n",
    "from huggingface_hub import notebook_login # To log to our Hugging Face account to be able to upload models to the Hub.\n",
    "import imageio\n",
    "\n",
    "env_id = 'final_proj/RLDocter_v0'\n",
    "eval_env = gym.make(env_id)\n",
    "env = gym.make(env_id)"
   ]
  },
  {
   "cell_type": "code",
   "execution_count": 2,
   "metadata": {},
   "outputs": [
    {
     "name": "stdout",
     "output_type": "stream",
     "text": [
      "1\n",
      "2\n"
     ]
    }
   ],
   "source": [
    "s_size = env.observation_space.shape[0]\n",
    "a_size = env.action_space.n\n",
    "print(s_size)\n",
    "print(a_size)"
   ]
  },
  {
   "cell_type": "code",
   "execution_count": 25,
   "metadata": {},
   "outputs": [],
   "source": [
    "import torch\n",
    "import torch.nn as nn\n",
    "import torch.nn.functional as F\n",
    "import torch.optim as optim\n",
    "from torch.distributions import Categorical\n",
    "\n",
    "class Policy(nn.Module):\n",
    "    def __init__(self, s_size, a_size, h_size):\n",
    "        super(Policy, self).__init__()\n",
    "        # Define the three layers here\n",
    "        # Code Here\n",
    "        self.fc1 = nn.Linear(s_size, h_size)\n",
    "        self.fc2 = nn.Linear(h_size, h_size)\n",
    "        self.fc3 = nn.Linear(h_size, a_size)\n",
    "        self.fc4 = nn.Linear(a_size, a_size)\n",
    "\n",
    "    def forward(self, x):\n",
    "        # Define the forward process here (with ReLU activation for the first 2 layers)\n",
    "        # x -> fc1 -> ReLU -> fc2 -> ReLU -> fc3\n",
    "        # Code Here\n",
    "        #print(\"first\", x)\n",
    "        x = self.fc1(x)\n",
    "        #print(\"second\", x)\n",
    "        x = F.relu(x)\n",
    "\n",
    "        x = F.relu(self.fc2(x))\n",
    "        \n",
    "        x = F.relu(self.fc3(x))\n",
    "        x = self.fc4(x)\n",
    "\n",
    "        # We output the softmax\n",
    "        return F.softmax(x, dim=1)\n",
    "\n",
    "    def act(self, state):\n",
    "        state = torch.from_numpy(state).float().unsqueeze(0).to(device)\n",
    "\n",
    "        probs = self.forward(state).cpu()\n",
    "\n",
    "        m = Categorical(probs)\n",
    "        action = m.sample()\n",
    "        return action.item(), m.log_prob(action)"
   ]
  },
  {
   "cell_type": "code",
   "execution_count": 26,
   "metadata": {},
   "outputs": [],
   "source": [
    "class myRNN(nn.Module):\n",
    "    def __init__(self, batch_size=1, n_inputs=1, n_neurons = 128, n_outputs = 2, num_layers = 1, dropout_rate = 0.5):\n",
    "        super(myRNN, self).__init__()\n",
    "\n",
    "        self.n_neurons = n_neurons\n",
    "        self.batch_size = batch_size\n",
    "        self.n_inputs = n_inputs\n",
    "        self.n_outputs = n_outputs\n",
    "        self.num_layers = num_layers\n",
    "        self.dropout_rate = dropout_rate\n",
    "        self.dropout = nn.Dropout(self.dropout_rate)\n",
    "        self.basic_rnn = nn.RNN(self.n_inputs, self.n_neurons)\n",
    "        self.rnns = nn.ModuleList([nn.RNN(self.n_inputs, self.n_neurons) for _ in range(self.num_layers)])\n",
    "        self.FC = nn.Linear(self.n_neurons, self.n_outputs)\n",
    "        self.layer_norm = nn.LayerNorm(n_inputs)\n",
    "\n",
    "        self.bn = nn.BatchNorm1d(1)\n",
    "    def init_hidden(self,):\n",
    "        # (num_layers, batch_size, n_neurons)\n",
    "        return (torch.zeros(1, self.batch_size, self.n_neurons)).to(device)\n",
    "\n",
    "    def forward(self, X):\n",
    "        # transforms X to dimensions: n_steps X batch_size X n_inputs\n",
    "        X = X.view(1, self.batch_size, 1)\n",
    "\n",
    "\n",
    "        self.batch_size = X.size(1)\n",
    "        X = self.layer_norm(X)\n",
    "        self.hidden = self.init_hidden()\n",
    "\n",
    "        # lstm_out => n_steps, batch_size, n_neurons (hidden states for each time step)\n",
    "        # self.hidden => 1, batch_size, n_neurons (final state from each lstm_out)\n",
    "        #lstm_out, self.hidden = self.basic_rnn(X, self.hidden)\n",
    "        for rnn in self.rnns:\n",
    "            lstm_out, self.hidden = rnn(X, self.hidden)\n",
    "        out = self.FC(self.hidden)\n",
    "\n",
    "        return F.softmax(out.view(-1, self.n_outputs), dim=1) # batch_size X n_output\n",
    "    def act(self, state):\n",
    "        state = torch.from_numpy(state).float().unsqueeze(0).to(device)\n",
    "        probs = self.forward(state).cpu()\n",
    "        m = Categorical(probs)\n",
    "        action = m.sample()\n",
    "        return action.item(), m.log_prob(action)"
   ]
  },
  {
   "cell_type": "code",
   "execution_count": 27,
   "metadata": {},
   "outputs": [],
   "source": [
    "from torch.autograd import Variable\n",
    "class LSTM(nn.Module):\n",
    "\n",
    "    def __init__(self, batch_size=1, num_classes=2, input_size=1, hidden_size=4, num_layers=1):\n",
    "        super(LSTM, self).__init__()\n",
    "\n",
    "        self.batch_size = batch_size\n",
    "        self.num_classes = num_classes\n",
    "        self.num_layers = num_layers\n",
    "        self.input_size = input_size\n",
    "        self.hidden_size = hidden_size\n",
    "        self.seq_length = 1\n",
    "\n",
    "        self.lstm = nn.LSTM(input_size=input_size, hidden_size=hidden_size,\n",
    "                            num_layers=num_layers, batch_first=True)\n",
    "\n",
    "        self.fc = nn.Linear(hidden_size, num_classes)\n",
    "\n",
    "    def forward(self, x):\n",
    "        x = x.view(self.batch_size, 1, 1)\n",
    "        h_0 = Variable(torch.zeros(\n",
    "            self.num_layers, x.size(0), self.hidden_size)).to(\"cuda:0\")\n",
    "\n",
    "        c_0 = Variable(torch.zeros(\n",
    "            self.num_layers, x.size(0), self.hidden_size)).to(\"cuda:0\")\n",
    "\n",
    "        # Propagate input through LSTM\n",
    "        ula, (h_out, _) = self.lstm(x, (h_0, c_0))\n",
    "\n",
    "        h_out = h_out.view(-1, self.hidden_size)\n",
    "\n",
    "        out = self.fc(h_out)\n",
    "\n",
    "        return F.softmax(out, dim=1)\n",
    "    \n",
    "    def act(self, state):\n",
    "        state = torch.from_numpy(state).float().unsqueeze(0).to(device)\n",
    "        probs = self.forward(state).cpu()\n",
    "        m = Categorical(probs)\n",
    "        action = m.sample()\n",
    "        return action.item(), m.log_prob(action)"
   ]
  },
  {
   "cell_type": "code",
   "execution_count": 28,
   "metadata": {},
   "outputs": [],
   "source": [
    "device = torch.device(\"cuda:0\" if torch.cuda.is_available() else \"cpu\")"
   ]
  },
  {
   "cell_type": "code",
   "execution_count": 29,
   "metadata": {},
   "outputs": [
    {
     "name": "stdout",
     "output_type": "stream",
     "text": [
      "cuda:0\n"
     ]
    }
   ],
   "source": [
    "print(device)"
   ]
  },
  {
   "cell_type": "code",
   "execution_count": 30,
   "metadata": {},
   "outputs": [],
   "source": [
    "def reinforce(policy, optimizer, n_training_episodes, max_t, gamma, print_every):\n",
    "    # Help us to calculate the score during the training\n",
    "    scores_deque = deque(maxlen=100)\n",
    "    scores = []\n",
    "    # Line 3 of pseudocode\n",
    "    for i_episode in range(1, n_training_episodes+1):\n",
    "\n",
    "        saved_log_probs = []\n",
    "        rewards = []\n",
    "        state = env.reset() # Code Here: reset the environment\n",
    "        # Line 4 of pseudocode\n",
    "        for t in range(max_t):\n",
    "\n",
    "            action, log_prob = policy.act(state)# Code Here: get the action\n",
    "            saved_log_probs.append(log_prob)\n",
    "            state, reward, done, _ = env.step(action)# Code Here: take an env step\n",
    "            rewards.append(reward)\n",
    "            if done:\n",
    "                break\n",
    "        scores_deque.append(sum(rewards))\n",
    "        scores.append(sum(rewards))\n",
    "\n",
    "        # Line 6 of pseudocode: calculate the return\n",
    "        returns = deque(maxlen=max_t)\n",
    "        n_steps = len(rewards)\n",
    "\n",
    "        # Compute the discounted returns at each timestep,\n",
    "        # as the sum of the gamma-discounted return at time t (G_t) + the reward at time t\n",
    "\n",
    "        ## We compute this starting from the last timestep to the first, to avoid redundant computations\n",
    "\n",
    "        ## appendleft() function of queues appends to the position 0\n",
    "        ## We use deque instead of lists to reduce the time complexity\n",
    "\n",
    "        for t in range(n_steps)[::-1]:\n",
    "            disc_return_t = (returns[0] if len(returns)>0 else 0)\n",
    "\n",
    "            returns.appendleft(rewards[t] + gamma * disc_return_t) # Code Here: complete here\n",
    "\n",
    "        ## standardization for training stability\n",
    "        eps = np.finfo(np.float32).eps.item()\n",
    "\n",
    "        ## eps is added to the standard deviation of the returns to avoid numerical instabilities\n",
    "        #print(\"here\", returns)\n",
    "        returns = torch.tensor(returns)\n",
    "        returns = (returns - returns.mean()) / (returns.std() + eps)\n",
    "\n",
    "        # Line 7:\n",
    "        policy_loss = []\n",
    "        for log_prob, disc_return in zip(saved_log_probs, returns):\n",
    "            policy_loss.append(-log_prob * disc_return)\n",
    "        policy_loss = torch.cat(policy_loss).sum()\n",
    "\n",
    "        # Line 8: PyTorch prefers gradient descent\n",
    "        optimizer.zero_grad()\n",
    "        policy_loss.backward()\n",
    "        optimizer.step()\n",
    "\n",
    "        if i_episode % print_every == 0:\n",
    "            print('Episode {}\\tAverage Score: {:.2f}'.format(i_episode, np.mean(scores_deque)))\n",
    "\n",
    "    return scores"
   ]
  },
  {
   "cell_type": "code",
   "execution_count": 31,
   "metadata": {},
   "outputs": [],
   "source": [
    "docter_hyperparameters = {\n",
    "    \"h_size\": 64,\n",
    "    \"n_training_episodes\": 10000,\n",
    "    \"n_evaluation_episodes\": 10,\n",
    "    \"max_t\": 10000,\n",
    "    \"gamma\": 0.99,\n",
    "    \"lr\": 1e-4,\n",
    "    \"env_id\": env_id,\n",
    "    \"state_space\": s_size,\n",
    "    \"action_space\": a_size,\n",
    "}"
   ]
  },
  {
   "cell_type": "code",
   "execution_count": 32,
   "metadata": {},
   "outputs": [],
   "source": [
    "# Create policy and place it to the device\n",
    "torch.manual_seed(50) # Don't change this\n",
    "docter_policy_mlp = Policy(docter_hyperparameters[\"state_space\"], docter_hyperparameters[\"action_space\"], docter_hyperparameters[\"h_size\"]).to(device)\n",
    "docter_optimizer_mlp = optim.Adam(docter_policy_mlp.parameters(), lr=docter_hyperparameters[\"lr\"])"
   ]
  },
  {
   "cell_type": "code",
   "execution_count": 33,
   "metadata": {},
   "outputs": [],
   "source": [
    "docter_policy_RNN = myRNN().to(device)\n",
    "docter_optimizer_RNN = optim.Adam(docter_policy_RNN.parameters(), lr=docter_hyperparameters[\"lr\"])"
   ]
  },
  {
   "cell_type": "code",
   "execution_count": 34,
   "metadata": {},
   "outputs": [],
   "source": [
    "docter_policy_LSTM = LSTM().to(device)\n",
    "docter_optimizer_LSTM = optim.Adam(docter_policy_LSTM.parameters(), lr=docter_hyperparameters[\"lr\"])"
   ]
  },
  {
   "cell_type": "code",
   "execution_count": 35,
   "metadata": {},
   "outputs": [
    {
     "name": "stdout",
     "output_type": "stream",
     "text": [
      "Episode 1000\tAverage Score: 2.95\n",
      "Episode 2000\tAverage Score: 3.09\n",
      "Episode 3000\tAverage Score: 3.14\n",
      "Episode 4000\tAverage Score: 3.07\n",
      "Episode 5000\tAverage Score: 3.27\n",
      "Episode 6000\tAverage Score: 3.49\n",
      "Episode 7000\tAverage Score: 3.75\n",
      "Episode 8000\tAverage Score: 3.70\n",
      "Episode 9000\tAverage Score: 4.06\n",
      "Episode 10000\tAverage Score: 4.20\n"
     ]
    }
   ],
   "source": [
    "scores_mlp = reinforce(docter_policy_mlp,\n",
    "                   docter_optimizer_mlp,\n",
    "                   docter_hyperparameters[\"n_training_episodes\"],\n",
    "                   docter_hyperparameters[\"max_t\"],\n",
    "                   docter_hyperparameters[\"gamma\"],\n",
    "                   1000)\n"
   ]
  },
  {
   "cell_type": "code",
   "execution_count": 36,
   "metadata": {},
   "outputs": [
    {
     "name": "stdout",
     "output_type": "stream",
     "text": [
      "Episode 100\tAverage Score: 3.16\n",
      "Episode 200\tAverage Score: 3.42\n",
      "Episode 300\tAverage Score: 3.71\n",
      "Episode 400\tAverage Score: 3.92\n",
      "Episode 500\tAverage Score: 4.82\n",
      "Episode 600\tAverage Score: 5.63\n",
      "Episode 700\tAverage Score: 7.84\n",
      "Episode 800\tAverage Score: 13.36\n",
      "Episode 900\tAverage Score: 22.55\n",
      "Episode 1000\tAverage Score: 38.08\n"
     ]
    }
   ],
   "source": [
    "\n",
    "scores_RNN = reinforce(docter_policy_RNN,\n",
    "                   docter_optimizer_RNN,\n",
    "                   1000,\n",
    "                   docter_hyperparameters[\"max_t\"],\n",
    "                   docter_hyperparameters[\"gamma\"],\n",
    "                   100)"
   ]
  },
  {
   "cell_type": "code",
   "execution_count": 37,
   "metadata": {},
   "outputs": [
    {
     "name": "stdout",
     "output_type": "stream",
     "text": [
      "Episode 1000\tAverage Score: 2.92\n",
      "Episode 2000\tAverage Score: 3.04\n",
      "Episode 3000\tAverage Score: 3.17\n",
      "Episode 4000\tAverage Score: 3.42\n",
      "Episode 5000\tAverage Score: 4.18\n",
      "Episode 6000\tAverage Score: 4.23\n",
      "Episode 7000\tAverage Score: 4.57\n",
      "Episode 8000\tAverage Score: 5.50\n",
      "Episode 9000\tAverage Score: 5.67\n",
      "Episode 10000\tAverage Score: 6.82\n"
     ]
    }
   ],
   "source": [
    "scores_LSTM = reinforce(docter_policy_LSTM,\n",
    "                   docter_optimizer_LSTM,\n",
    "                   10000,\n",
    "                   docter_hyperparameters[\"max_t\"],\n",
    "                   docter_hyperparameters[\"gamma\"],\n",
    "                   1000)"
   ]
  },
  {
   "cell_type": "code",
   "execution_count": 38,
   "metadata": {},
   "outputs": [],
   "source": [
    "def evaluate_agent(env, max_steps, n_eval_episodes, policy):\n",
    "  \"\"\"\n",
    "  Evaluate the agent for ``n_eval_episodes`` episodes and returns average reward and std of reward.\n",
    "  :param env: The evaluation environment\n",
    "  :param n_eval_episodes: Number of episode to evaluate the agent\n",
    "  :param policy: The Reinforce agent\n",
    "  \"\"\"\n",
    "  episode_rewards = []\n",
    "  for episode in range(n_eval_episodes):\n",
    "    state = env.reset()\n",
    "    step = 0\n",
    "    done = False\n",
    "    total_rewards_ep = 0\n",
    "\n",
    "    for step in range(max_steps):\n",
    "      action, _ = policy.act(state)\n",
    "      new_state, reward, done, _ = env.step(action)\n",
    "      total_rewards_ep += reward\n",
    "\n",
    "      if done:\n",
    "        break\n",
    "      state = new_state\n",
    "    episode_rewards.append(total_rewards_ep)\n",
    "  mean_reward = np.mean(episode_rewards)\n",
    "  std_reward = np.std(episode_rewards)\n",
    "\n",
    "  return mean_reward, std_reward"
   ]
  },
  {
   "cell_type": "code",
   "execution_count": 39,
   "metadata": {},
   "outputs": [
    {
     "name": "stdout",
     "output_type": "stream",
     "text": [
      "<final_proj.docter.BPWaveform object at 0x000001E25C1F3760>\n"
     ]
    },
    {
     "name": "stderr",
     "output_type": "stream",
     "text": [
      "d:\\联想实习\\abc\\lib\\site-packages\\gym\\utils\\passive_env_checker.py:174: UserWarning: \u001b[33mWARN: Future gym versions will require that `Env.reset` can be passed a `seed` instead of using `Env.seed` for resetting the environment random number generator.\u001b[0m\n",
      "  logger.warn(\n",
      "d:\\联想实习\\abc\\lib\\site-packages\\gym\\utils\\passive_env_checker.py:187: UserWarning: \u001b[33mWARN: Future gym versions will require that `Env.reset` can be passed `options` to allow the environment initialisation to be passed additional information.\u001b[0m\n",
      "  logger.warn(\n",
      "d:\\联想实习\\abc\\lib\\site-packages\\gym\\utils\\passive_env_checker.py:195: UserWarning: \u001b[33mWARN: The result returned by `env.reset()` was not a tuple of the form `(obs, info)`, where `obs` is a observation and `info` is a dictionary containing additional information. Actual type: `<class 'numpy.ndarray'>`\u001b[0m\n",
      "  logger.warn(\n",
      "d:\\联想实习\\abc\\lib\\site-packages\\gym\\utils\\passive_env_checker.py:219: DeprecationWarning: \u001b[33mWARN: Core environment is written in old step API which returns one bool instead of two. It is recommended to rewrite the environment with new step API. \u001b[0m\n",
      "  logger.deprecation(\n",
      "d:\\联想实习\\abc\\lib\\site-packages\\gym\\utils\\passive_env_checker.py:225: DeprecationWarning: `np.bool8` is a deprecated alias for `np.bool_`.  (Deprecated NumPy 1.24)\n",
      "  if not isinstance(done, (bool, np.bool8)):\n",
      "d:\\联想实习\\abc\\lib\\site-packages\\gym\\utils\\passive_env_checker.py:141: UserWarning: \u001b[33mWARN: The obs returned by the `step()` method was expecting numpy array dtype to be float32, actual type: float64\u001b[0m\n",
      "  logger.warn(\n",
      "d:\\联想实习\\abc\\lib\\site-packages\\gym\\utils\\passive_env_checker.py:165: UserWarning: \u001b[33mWARN: The obs returned by the `step()` method is not within the observation space.\u001b[0m\n",
      "  logger.warn(f\"{pre} is not within the observation space.\")\n"
     ]
    },
    {
     "data": {
      "text/plain": [
       "(4.379999999999999, 1.1728597529116593)"
      ]
     },
     "execution_count": 39,
     "metadata": {},
     "output_type": "execute_result"
    }
   ],
   "source": [
    "#Eval MLP\n",
    "eval_env = gym.make(env_id)\n",
    "evaluate_agent(eval_env,\n",
    "               docter_hyperparameters[\"max_t\"],\n",
    "               docter_hyperparameters[\"n_evaluation_episodes\"],\n",
    "               docter_policy_mlp)"
   ]
  },
  {
   "cell_type": "code",
   "execution_count": 47,
   "metadata": {},
   "outputs": [
    {
     "data": {
      "image/png": "[encoded data removed]",
      "text/plain": [
       "<Figure size 1000x600 with 1 Axes>"
      ]
     },
     "metadata": {},
     "output_type": "display_data"
    }
   ],
   "source": [
    "episodes_2 = [1000, 2000, 3000, 4000, 5000, 6000, 7000, 8000, 9000, 10000]\n",
    "average_scores_2 = [2.95, 3.09, 3.14, 3.07, 3.27, 3.49, 3.75, 3.70, 4.06, 4.20]\n",
    "\n",
    "# Plotting\n",
    "plt.figure(figsize=(10, 6))\n",
    "plt.plot(episodes_2, average_scores_2, marker='o', linestyle='-', color='b')\n",
    "plt.title('MLP Average Score over Episodes')\n",
    "plt.xlabel('Episodes')\n",
    "plt.ylabel('LSTM Average Score')\n",
    "plt.grid(True)\n",
    "plt.show()"
   ]
  },
  {
   "cell_type": "code",
   "execution_count": 48,
   "metadata": {},
   "outputs": [
    {
     "name": "stdout",
     "output_type": "stream",
     "text": [
      "<final_proj.docter.BPWaveform object at 0x000001E26294D990>\n"
     ]
    },
    {
     "name": "stderr",
     "output_type": "stream",
     "text": [
      "d:\\联想实习\\abc\\lib\\site-packages\\gym\\utils\\passive_env_checker.py:174: UserWarning: \u001b[33mWARN: Future gym versions will require that `Env.reset` can be passed a `seed` instead of using `Env.seed` for resetting the environment random number generator.\u001b[0m\n",
      "  logger.warn(\n",
      "d:\\联想实习\\abc\\lib\\site-packages\\gym\\utils\\passive_env_checker.py:187: UserWarning: \u001b[33mWARN: Future gym versions will require that `Env.reset` can be passed `options` to allow the environment initialisation to be passed additional information.\u001b[0m\n",
      "  logger.warn(\n",
      "d:\\联想实习\\abc\\lib\\site-packages\\gym\\utils\\passive_env_checker.py:195: UserWarning: \u001b[33mWARN: The result returned by `env.reset()` was not a tuple of the form `(obs, info)`, where `obs` is a observation and `info` is a dictionary containing additional information. Actual type: `<class 'numpy.ndarray'>`\u001b[0m\n",
      "  logger.warn(\n",
      "d:\\联想实习\\abc\\lib\\site-packages\\gym\\utils\\passive_env_checker.py:219: DeprecationWarning: \u001b[33mWARN: Core environment is written in old step API which returns one bool instead of two. It is recommended to rewrite the environment with new step API. \u001b[0m\n",
      "  logger.deprecation(\n",
      "d:\\联想实习\\abc\\lib\\site-packages\\gym\\utils\\passive_env_checker.py:225: DeprecationWarning: `np.bool8` is a deprecated alias for `np.bool_`.  (Deprecated NumPy 1.24)\n",
      "  if not isinstance(done, (bool, np.bool8)):\n",
      "d:\\联想实习\\abc\\lib\\site-packages\\gym\\utils\\passive_env_checker.py:141: UserWarning: \u001b[33mWARN: The obs returned by the `step()` method was expecting numpy array dtype to be float32, actual type: float64\u001b[0m\n",
      "  logger.warn(\n",
      "d:\\联想实习\\abc\\lib\\site-packages\\gym\\utils\\passive_env_checker.py:165: UserWarning: \u001b[33mWARN: The obs returned by the `step()` method is not within the observation space.\u001b[0m\n",
      "  logger.warn(f\"{pre} is not within the observation space.\")\n"
     ]
    },
    {
     "data": {
      "text/plain": [
       "(6.880000000000001, 3.237221030451894)"
      ]
     },
     "execution_count": 48,
     "metadata": {},
     "output_type": "execute_result"
    }
   ],
   "source": [
    "#Eval LSTM\n",
    "eval_env = gym.make(env_id)\n",
    "evaluate_agent(eval_env,\n",
    "               docter_hyperparameters[\"max_t\"],\n",
    "               docter_hyperparameters[\"n_evaluation_episodes\"],\n",
    "               docter_policy_LSTM)"
   ]
  },
  {
   "cell_type": "code",
   "execution_count": 53,
   "metadata": {},
   "outputs": [
    {
     "data": {
      "image/png": "[encoded data removed]",
      "text/plain": [
       "<Figure size 1000x600 with 1 Axes>"
      ]
     },
     "metadata": {},
     "output_type": "display_data"
    }
   ],
   "source": [
    "episodes = [1000, 2000, 3000, 4000, 5000, 6000, 7000, 8000, 9000, 10000]\n",
    "average_scores = [2.92, 3.04, 3.17, 3.42, 4.18, 4.23, 4.57, 5.50, 5.67, 6.82]\n",
    "\n",
    "# Plotting\n",
    "plt.figure(figsize=(10, 6))\n",
    "plt.plot(episodes, average_scores, marker='o', linestyle='-', color='b')\n",
    "plt.title('LSTM Average Score over Episodes')\n",
    "plt.xlabel('Episodes')\n",
    "plt.ylabel('Average Score')\n",
    "plt.grid(True)\n",
    "plt.show()"
   ]
  },
  {
   "cell_type": "code",
   "execution_count": 50,
   "metadata": {},
   "outputs": [
    {
     "name": "stdout",
     "output_type": "stream",
     "text": [
      "<final_proj.docter.BPWaveform object at 0x000001E262AE2FE0>\n"
     ]
    },
    {
     "data": {
      "text/plain": [
       "(46.29999999999991, 18.195274111702602)"
      ]
     },
     "execution_count": 50,
     "metadata": {},
     "output_type": "execute_result"
    }
   ],
   "source": [
    "#Eval RNN\n",
    "eval_env = gym.make(env_id)\n",
    "evaluate_agent(eval_env,\n",
    "               docter_hyperparameters[\"max_t\"],\n",
    "               docter_hyperparameters[\"n_evaluation_episodes\"],\n",
    "               docter_policy_RNN)"
   ]
  },
  {
   "cell_type": "code",
   "execution_count": 51,
   "metadata": {},
   "outputs": [
    {
     "data": {
      "image/png": "[encoded data removed]",
      "text/plain": [
       "<Figure size 1000x600 with 1 Axes>"
      ]
     },
     "metadata": {},
     "output_type": "display_data"
    }
   ],
   "source": [
    "episodes = [100, 200, 300, 400, 500, 600, 700, 800, 900, 1000]\n",
    "average_scores = [3.16, 3.42, 3.71, 3.92, 4.82, 5.63, 7.84, 13.36, 22.55, 38.08]\n",
    "\n",
    "# Plotting\n",
    "plt.figure(figsize=(10, 6))\n",
    "plt.plot(episodes, average_scores, marker='o', linestyle='-', color='b')\n",
    "plt.title('RNN Average Score over Episodes')\n",
    "plt.xlabel('Episodes')\n",
    "plt.ylabel('Average Score')\n",
    "plt.grid(True)\n",
    "plt.show()"
   ]
  },
  {
   "cell_type": "code",
   "execution_count": 52,
   "metadata": {},
   "outputs": [],
   "source": [
    "#save the models\n",
    "torch.save(docter_policy_RNN, \"rnn_model.pth\")\n",
    "torch.save(docter_policy_mlp, \"mlp_model.pth\")\n",
    "torch.save(docter_policy_LSTM, \"lstm_model.pth\")"
   ]
  },
  {
   "cell_type": "code",
   "execution_count": null,
   "metadata": {},
   "outputs": [],
   "source": []
  }
 ],
 "metadata": {
  "kernelspec": {
   "display_name": "base",
   "language": "python",
   "name": "python3"
  },
  "language_info": {
   "codemirror_mode": {
    "name": "ipython",
    "version": 3
   },
   "file_extension": ".py",
   "mimetype": "text/x-python",
   "name": "python",
   "nbconvert_exporter": "python",
   "pygments_lexer": "ipython3",
   "version": "3.10.12"
  }
 },
 "nbformat": 4,
 "nbformat_minor": 2
}
